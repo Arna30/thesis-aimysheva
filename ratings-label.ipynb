{
 "cells": [
  {
   "cell_type": "code",
   "execution_count": null,
   "metadata": {},
   "outputs": [],
   "source": [
    "import pandas as pd\n",
    "import numpy as np\n",
    "\n",
    "# Load the sheets (assuming Excel format)\n",
    "arousal_df = pd.read_excel(\"ratings_arousal.xlsx\")\n",
    "valence_df = pd.read_excel(\"ratings_valence.xlsx\")\n",
    "\n",
    "# Extract the ID column\n",
    "id_column = arousal_df.iloc[:, 0]  # Assuming the first column is the ID\n",
    "\n",
    "# Compute mean for arousal and valence (excluding ID column)\n",
    "arousal_mean = arousal_df.iloc[:, 1:].values.mean()\n",
    "valence_mean = valence_df.iloc[:, 1:].values.mean()\n",
    "\n",
    "# Define conditions and label mappings\n",
    "def get_label(arousal, valence):\n",
    "    if arousal > arousal_mean and valence > valence_mean:\n",
    "        return \"HAPV\"\n",
    "    elif arousal > arousal_mean and valence <= valence_mean:\n",
    "        return \"HANV\"\n",
    "    elif arousal <= arousal_mean and valence > valence_mean:\n",
    "        return \"LAPV\"\n",
    "    else:\n",
    "        return \"LANV\"\n",
    "\n",
    "# Apply labeling while keeping the ID column\n",
    "labeled_values = np.vectorize(get_label)(arousal_df.iloc[:, 1:].values, valence_df.iloc[:, 1:].values)\n",
    "combined_df = pd.DataFrame(labeled_values)\n",
    "\n",
    "# Define new column names\n",
    "new_column_names = [\"ID\", \n",
    "    \"Anxiety/fear1\", \"Anxiety/fear2\", \"Anxiety/fear3\", \"Anxiety/fear4\", \"Anxiety/fear5\",\n",
    "    \"Sad1\", \"Sad2\", \"Sad3\", \"Sad4\", \"Sad5\",\n",
    "    \"Happy1\", \"Happy2\", \"Happy3\", \"Happy4\", \"Happy5\",\n",
    "    \"Contentment1\", \"Contentment2\", \"Contentment3\", \"Contentment4\", \"Contentment5\"\n",
    "]\n",
    "\n",
    "# Set new column names and reinsert the ID column\n",
    "combined_df.columns = new_column_names[1:]  # Rename the data columns\n",
    "combined_df.insert(0, \"ID\", id_column)  # Reinsert the ID column\n",
    "\n",
    "# Save to a new Excel file\n",
    "combined_df.to_excel(\"combined_labeled_dataset_full1.xlsx\", index=False)\n"
   ]
  }
 ],
 "metadata": {
  "language_info": {
   "name": "python"
  }
 },
 "nbformat": 4,
 "nbformat_minor": 2
}
