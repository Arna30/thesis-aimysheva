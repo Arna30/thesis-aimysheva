{
 "cells": [
  {
   "cell_type": "code",
   "execution_count": 3,
   "metadata": {},
   "outputs": [
    {
     "name": "stdout",
     "output_type": "stream",
     "text": [
      "Processing complete. The file 'band_powers_labels_grad.xlsx' has been saved.\n"
     ]
    }
   ],
   "source": [
    "import pandas as pd\n",
    "import re\n",
    "\n",
    "# Load the Excel files\n",
    "band_powers = pd.read_excel(\"band_powers_files_FULL_grad.xlsx\")\n",
    "combined_labels = pd.read_excel(\"combined_labeled_dataset_full.xlsx\")\n",
    "\n",
    "# Define mapping for video categories\n",
    "category_mapping = {\n",
    "    \"anx\": \"Anx\",\n",
    "    \"sad\": \"Sad\",\n",
    "    \"happy\": \"Hap\",\n",
    "    \"cont\": \"Cont\"\n",
    "}\n",
    "\n",
    "# Extract subject number, category, and video order from 'File Name' column\n",
    "def extract_info(file_name):\n",
    "    match = re.search(r\"s(\\d+)_(anx|sad|happy|cont)_(\\d+)_\", file_name)\n",
    "    if match:\n",
    "        subject = int(match.group(1))  # Convert to int for matching with 'ID'\n",
    "        category = category_mapping[match.group(2)]\n",
    "        order = int(match.group(3))\n",
    "        return subject, category, order\n",
    "    return None, None, None\n",
    "\n",
    "# Process each row in band_powers\n",
    "labels = []\n",
    "for file_name in band_powers['File Name']:\n",
    "    subject, category, order = extract_info(file_name)\n",
    "    if subject is None:\n",
    "        labels.append(None)\n",
    "        continue\n",
    "    \n",
    "    # Construct the column name to look for the rating\n",
    "    column_name = f\"{category}{order}\"\n",
    "    \n",
    "    # Find the matching row in combined_labels\n",
    "    row = combined_labels[combined_labels['ID'] == subject]\n",
    "    if not row.empty and column_name in row.columns:\n",
    "        labels.append(row[column_name].values[0])\n",
    "    else:\n",
    "        labels.append(None)\n",
    "\n",
    "# Add target column to band_powers\n",
    "band_powers['Target'] = labels\n",
    "\n",
    "# Save to a new Excel file\n",
    "band_powers.to_excel(\"band_powers_labels_FULL_FINAL_grad.xlsx\", index=False)\n",
    "\n",
    "print(\"Processing complete. The file 'band_powers_labels_grad.xlsx' has been saved.\")"
   ]
  }
 ],
 "metadata": {
  "kernelspec": {
   "display_name": "base",
   "language": "python",
   "name": "python3"
  },
  "language_info": {
   "codemirror_mode": {
    "name": "ipython",
    "version": 3
   },
   "file_extension": ".py",
   "mimetype": "text/x-python",
   "name": "python",
   "nbconvert_exporter": "python",
   "pygments_lexer": "ipython3",
   "version": "3.11.5"
  }
 },
 "nbformat": 4,
 "nbformat_minor": 2
}
