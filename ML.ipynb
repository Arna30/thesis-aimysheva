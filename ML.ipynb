{
 "cells": [
  {
   "cell_type": "code",
   "execution_count": 1,
   "id": "a240c75e",
   "metadata": {},
   "outputs": [],
   "source": [
    "import pandas as pd\n",
    "import numpy as np\n",
    "import seaborn as sns\n",
    "import matplotlib.pyplot as plt\n",
    "from sklearn.model_selection import train_test_split\n",
    "from sklearn.preprocessing import StandardScaler\n",
    "from sklearn.ensemble import RandomForestClassifier\n",
    "from sklearn.metrics import classification_report, accuracy_score\n",
    "from sklearn.ensemble import RandomForestClassifier\n",
    "from sklearn.model_selection import GridSearchCV\n",
    "from xgboost import XGBClassifier"
   ]
  },
  {
   "cell_type": "code",
   "execution_count": 2,
   "id": "73ae9820",
   "metadata": {},
   "outputs": [],
   "source": [
    "df = pd.read_excel(\"band_powers_labels_FULL_FINAL_grad.xlsx\")  \n",
    "\n",
    "# Drop rows with empty Target values\n",
    "df = df.dropna(subset=['Target'])"
   ]
  },
  {
   "cell_type": "code",
   "execution_count": 3,
   "id": "f657f654",
   "metadata": {},
   "outputs": [],
   "source": [
    "import pandas as pd\n",
    "df_normal = df.copy()\n",
    "target_cols = df_normal.columns[-3:]\n",
    "# Extract subject number from 'File Name'\n",
    "df_normal['Subject'] = df_normal['File Name'].str.extract(r's(\\d+)').astype(int)\n",
    "\n",
    "# Get feature columns (excluding 'File Name' and 'Subject')\n",
    "feature_cols = df_normal.columns.difference(['File Name', 'Subject']).difference(target_cols)\n",
    "\n",
    "# Normalize per subject\n",
    "df_normal[feature_cols] = df_normal.groupby('Subject')[feature_cols].transform(lambda x: (x - x.mean()) / x.std())\n"
   ]
  },
  {
   "cell_type": "code",
   "execution_count": 4,
   "id": "c05ea79d",
   "metadata": {},
   "outputs": [],
   "source": [
    "df_valence = df_normal.copy()\n",
    "df_valence=df_valence.drop(columns=['TargetArousal'])\n",
    "df_valence=df_valence.drop(columns=['Target'])"
   ]
  },
  {
   "cell_type": "code",
   "execution_count": 5,
   "id": "a47f5ad7",
   "metadata": {},
   "outputs": [],
   "source": [
    "df_arousal = df_normal.copy()\n",
    "df_arousal=df_arousal.drop(columns=['TargetValence'])\n",
    "df_arousal=df_arousal.drop(columns=['Target'])"
   ]
  },
  {
   "cell_type": "code",
   "execution_count": 6,
   "id": "4abd241c",
   "metadata": {},
   "outputs": [],
   "source": [
    "def split_within_subject(df, train_ratio=0.8):\n",
    "    train_list = []\n",
    "    test_list = []\n",
    "    \n",
    "    for subject, group in df.groupby(\"Subject\"):\n",
    "        if len(group) != 60:\n",
    "            raise ValueError(f\"Subject {subject} does not have exactly 60 samples!\")\n",
    "\n",
    "        # Shuffle samples within each subject\n",
    "        group = group.sample(frac=1, random_state=42)\n",
    "\n",
    "        # Determine train-test split indices\n",
    "        train_size = int(train_ratio * len(group))  # 80% of 60 = 48\n",
    "        train_list.append(group.iloc[:train_size])  # First 48 samples → Train\n",
    "        test_list.append(group.iloc[train_size:])   # Last 12 samples → Test\n",
    "\n",
    "    # Combine the lists into DataFrames\n",
    "    train_df = pd.concat(train_list).reset_index(drop=True)\n",
    "    test_df = pd.concat(test_list).reset_index(drop=True)\n",
    "\n",
    "    return train_df, test_df"
   ]
  },
  {
   "cell_type": "code",
   "execution_count": 7,
   "id": "ad5b2e57",
   "metadata": {},
   "outputs": [
    {
     "name": "stdout",
     "output_type": "stream",
     "text": [
      "Accuracy for Valence: 0.8351063829787234\n",
      "Classification Report:\n",
      "               precision    recall  f1-score   support\n",
      "\n",
      "          NV       0.81      0.84      0.82       256\n",
      "          PV       0.86      0.83      0.85       308\n",
      "\n",
      "    accuracy                           0.84       564\n",
      "   macro avg       0.83      0.84      0.83       564\n",
      "weighted avg       0.84      0.84      0.84       564\n",
      "\n"
     ]
    }
   ],
   "source": [
    "from sklearn.preprocessing import StandardScaler, LabelEncoder\n",
    "from sklearn.metrics import accuracy_score, classification_report\n",
    "from xgboost import XGBClassifier\n",
    "from sklearn.model_selection import GridSearchCV\n",
    "\n",
    "df_valence = df_valence.iloc[:, 1:]  # Excludes the first and last columns\n",
    "\n",
    "# Apply the function to split data\n",
    "train_val, test_val = split_within_subject(df_valence)\n",
    "\n",
    "# Extract features and target\n",
    "X_train_val = train_val.drop(columns=['Subject', 'TargetValence'])\n",
    "y_train_val = train_val['TargetValence']\n",
    "\n",
    "X_test_val = test_val.drop(columns=['Subject', 'TargetValence'])\n",
    "y_test_val = test_val['TargetValence']\n",
    "\n",
    "# Standardize the features\n",
    "scaler_val = StandardScaler()\n",
    "X_train_val = scaler_val.fit_transform(X_train_val)\n",
    "X_test_val = scaler_val.transform(X_test_val)\n",
    "\n",
    "# Initialize LabelEncoder\n",
    "label_encoder = LabelEncoder()\n",
    "\n",
    "# Fit and transform target labels\n",
    "y_train_val_encoded = label_encoder.fit_transform(y_train_val)\n",
    "y_test_val_encoded = label_encoder.transform(y_test_val)\n",
    "\n",
    "# Initialize XGBoost classifier\n",
    "clf_xgb_val = XGBClassifier(\n",
    "    n_estimators=100,\n",
    "    learning_rate=0.1,\n",
    "    max_depth=3,\n",
    "    subsample=0.8,\n",
    "    colsample_bytree=0.8,\n",
    "    random_state=1,\n",
    "    use_label_encoder=False\n",
    ")\n",
    "\n",
    "clf_xgb_val.fit(X_train_val, y_train_val_encoded)\n",
    "\n",
    "# Predict on the test set\n",
    "y_pred_xgb_val = clf_xgb_val.predict(X_test_val)\n",
    "\n",
    "# Convert predictions back to original labels\n",
    "y_pred_xgb_original_val = label_encoder.inverse_transform(y_pred_xgb_val)\n",
    "\n",
    "# Evaluate model performance\n",
    "print(\"Accuracy for Valence:\", accuracy_score(y_test_val, y_pred_xgb_original_val))\n",
    "print(\"Classification Report:\\n\", classification_report(y_test_val, y_pred_xgb_original_val))\n"
   ]
  },
  {
   "cell_type": "code",
   "execution_count": null,
   "id": "58acce82",
   "metadata": {},
   "outputs": [
    {
     "name": "stdout",
     "output_type": "stream",
     "text": [
      "Permutation test p-value: 0.0000\n",
      "Mean of permutation accuracies: 0.5035\n"
     ]
    }
   ],
   "source": [
    "import numpy as np\n",
    "from sklearn.metrics import accuracy_score\n",
    "\n",
    "# 1. Observed accuracy using the true labels\n",
    "y_pred_original = clf_xgb_val.predict(X_test_val)\n",
    "observed_acc = accuracy_score(y_test_val, y_pred_xgb_original_val)\n",
    "\n",
    "# 2. Permutation test: shuffle labels and retrain the model\n",
    "n_permutations = 100\n",
    "perm_accuracies = []\n",
    "\n",
    "for _ in range(n_permutations):\n",
    "    # Shuffle the training labels\n",
    "    y_train_perm = np.random.permutation(y_train_val)\n",
    "    \n",
    "    # Clone or re-initialize your model to reset it\n",
    "    model_perm = XGBClassifier(**clf_xgb_val.get_params()) \n",
    "    y_train_perm = label_encoder.fit_transform(y_train_perm)\n",
    "    # Fit model on the same training data but with permuted labels\n",
    "    model_perm.fit(X_train_val, y_train_perm)\n",
    "    \n",
    "    # Predict on the original test set\n",
    "    y_pred_perm = model_perm.predict(X_test_val)\n",
    "    \n",
    "    # Compute accuracy and store it\n",
    "    perm_acc = accuracy_score(y_test_val_encoded, y_pred_perm)\n",
    "    perm_accuracies.append(perm_acc)\n",
    "\n",
    "# 3. Calculate p-value\n",
    "perm_accuracies = np.array(perm_accuracies)\n",
    "p_value = np.mean(perm_accuracies >= observed_acc)\n",
    "\n",
    "print(f\"Permutation test p-value: {p_value:.4f}\")\n",
    "print(f\"Mean of permutation accuracies: {np.mean(perm_accuracies):.4f}\")\n"
   ]
  },
  {
   "cell_type": "code",
   "execution_count": null,
   "id": "d11e34d0",
   "metadata": {},
   "outputs": [
    {
     "name": "stdout",
     "output_type": "stream",
     "text": [
      "Permutation test p-value: 0.0000\n",
      "Mean of permutaion accuratcies: 0.5036524822695035\n"
     ]
    }
   ],
   "source": [
    "import numpy as np\n",
    "\n",
    "# 1. Observed accuracy\n",
    "observed_acc = accuracy_score(y_test_val, y_pred_xgb_original_val)\n",
    "\n",
    "# 2. Permutation test\n",
    "n_permutations = 100\n",
    "perm_accuracies = []\n",
    "\n",
    "for _ in range(n_permutations):\n",
    "    y_test_perm = np.random.permutation(y_test_val)  # shuffle the true labels\n",
    "    perm_acc = accuracy_score(y_test_perm, y_pred_xgb_original_val)\n",
    "    perm_accuracies.append(perm_acc)\n",
    "\n",
    "# 3. Calculate p-value\n",
    "perm_accuracies = np.array(perm_accuracies)\n",
    "p_value = np.mean(perm_accuracies >= observed_acc)\n",
    "\n",
    "print(f\"Permutation test p-value: {p_value:.4f}\")\n",
    "print(f\"Mean of permutaion accuratcies: { np.mean(perm_accuracies)}\")\n"
   ]
  },
  {
   "cell_type": "code",
   "execution_count": null,
   "id": "bf4948cc",
   "metadata": {},
   "outputs": [
    {
     "name": "stdout",
     "output_type": "stream",
     "text": [
      "            Feature  Importance\n",
      "680    Beta MEG1012    0.009409\n",
      "157   Delta MEG2113    0.009030\n",
      "621    Beta MEG0213    0.007873\n",
      "567   Alpha MEG2123    0.007825\n",
      "178   Delta MEG2342    0.007799\n",
      "...             ...         ...\n",
      "450   Alpha MEG0622    0.000000\n",
      "452   Alpha MEG0632    0.000000\n",
      "453   Alpha MEG0633    0.000000\n",
      "454   Alpha MEG0642    0.000000\n",
      "1019  Gamma MEG2643    0.000000\n",
      "\n",
      "[1020 rows x 2 columns]\n"
     ]
    },
    {
     "data": {
      "image/png": "[encoded data removed]",
      "text/plain": [
       "<Figure size 640x480 with 1 Axes>"
      ]
     },
     "metadata": {},
     "output_type": "display_data"
    }
   ],
   "source": [
    "# Get feature importances\n",
    "importances = clf_xgb_val.feature_importances_\n",
    "\n",
    "feature_names = train_val.drop(columns=['Subject', 'TargetValence']).columns\n",
    "\n",
    "# Create a DataFrame for better visualization\n",
    "feature_importance_df = pd.DataFrame({\n",
    "    'Feature': feature_names,\n",
    "    'Importance': importances\n",
    "}).sort_values(by='Importance', ascending=False)\n",
    "\n",
    "print(feature_importance_df)\n",
    "\n",
    "top_n = 10\n",
    "feature_importance_df.head(top_n).plot(kind='barh', x='Feature', y='Importance', legend=False)\n",
    "plt.title(f'Top {top_n} Feature Importances (Valence)')\n",
    "plt.gca().invert_yaxis()\n",
    "plt.tight_layout()\n",
    "plt.show()\n"
   ]
  },
  {
   "cell_type": "code",
   "execution_count": 17,
   "id": "a8665188",
   "metadata": {},
   "outputs": [
    {
     "name": "stdout",
     "output_type": "stream",
     "text": [
      "Accuracy for Arousal: 0.7801418439716312\n",
      "Classification Report:\n",
      "               precision    recall  f1-score   support\n",
      "\n",
      "          HA       0.76      0.72      0.74       246\n",
      "          LA       0.79      0.82      0.81       318\n",
      "\n",
      "    accuracy                           0.78       564\n",
      "   macro avg       0.78      0.77      0.78       564\n",
      "weighted avg       0.78      0.78      0.78       564\n",
      "\n"
     ]
    }
   ],
   "source": [
    "from sklearn.preprocessing import LabelEncoder\n",
    "\n",
    "df_arousal = df_arousal.iloc[:, 1:]  # Excludes the first and last columns\n",
    "\n",
    "# Apply the function\n",
    "train_ar, test_ar = split_within_subject(df_arousal)\n",
    "\n",
    "# Extract X and y\n",
    "X_train_ar = train_ar.drop(columns=['Subject', 'TargetArousal'])\n",
    "y_train_ar = train_ar['TargetArousal']\n",
    "\n",
    "X_test_ar = test_ar.drop(columns=['Subject', 'TargetArousal'])\n",
    "y_test_ar = test_ar['TargetArousal']\n",
    "\n",
    "# Standardize features\n",
    "scaler_ar = StandardScaler()\n",
    "X_train_ar = scaler_ar.fit_transform(X_train_ar)\n",
    "X_test_ar = scaler_ar.transform(X_test_ar)\n",
    "\n",
    "#  Initialize LabelEncoder\n",
    "label_encoder = LabelEncoder()\n",
    "\n",
    "# Fit and transform y_train_val and y_test_val to convert labels to numbers\n",
    "y_train_ar_encoded = label_encoder.fit_transform(y_train_ar)\n",
    "y_test_ar_encoded = label_encoder.transform(y_test_ar)\n",
    "\n",
    "clf_xgb_ar = XGBClassifier(\n",
    "    n_estimators=100,\n",
    "    learning_rate=0.1,\n",
    "    max_depth=3,\n",
    "    random_state=1,\n",
    "    use_label_encoder=False\n",
    ")\n",
    "\n",
    "# Train the model\n",
    "clf_xgb_ar.fit(X_train_ar, y_train_ar_encoded)\n",
    "\n",
    "# Predict\n",
    "y_pred_xgb_ar = clf_xgb_ar.predict(X_test_ar)\n",
    "\n",
    "# Convert predictions back to original labels\n",
    "y_pred_xgb_original_ar = label_encoder.inverse_transform(y_pred_xgb_ar)\n",
    "\n",
    "# Evaluate\n",
    "print(\"Accuracy for Arousal:\", accuracy_score(y_test_ar, y_pred_xgb_original_ar))\n",
    "print(\"Classification Report:\\n\", classification_report(y_test_ar, y_pred_xgb_original_ar))\n"
   ]
  },
  {
   "cell_type": "code",
   "execution_count": 21,
   "id": "9e89c925",
   "metadata": {},
   "outputs": [
    {
     "name": "stdout",
     "output_type": "stream",
     "text": [
      "Permutation test p-value: 0.0000\n",
      "Mean of permutation accuracies: 0.5093\n"
     ]
    }
   ],
   "source": [
    "import numpy as np\n",
    "from sklearn.metrics import accuracy_score\n",
    "\n",
    "# 1. Observed accuracy using the true labels\n",
    "y_pred_original = clf_xgb_ar.predict(X_test_ar)\n",
    "observed_acc = accuracy_score(y_test_ar, y_pred_xgb_original_ar)\n",
    "\n",
    "# 2. Permutation test: shuffle labels and retrain the model\n",
    "n_permutations = 100\n",
    "perm_accuracies = []\n",
    "\n",
    "for _ in range(n_permutations):\n",
    "    # Shuffle the training labels\n",
    "    y_train_perm = np.random.permutation(y_train_ar)\n",
    "    \n",
    "    # Clone or re-initialize your model to reset it\n",
    "    model_perm = XGBClassifier(**clf_xgb_ar.get_params()) \n",
    "    y_train_perm = label_encoder.fit_transform(y_train_perm)\n",
    "    # Fit model on the same training data but with permuted labels\n",
    "    model_perm.fit(X_train_ar, y_train_perm)\n",
    "    \n",
    "    # Predict on the original test set\n",
    "    y_pred_perm = model_perm.predict(X_test_ar)\n",
    "    \n",
    "    # Compute accuracy and store it\n",
    "    perm_acc = accuracy_score(y_test_ar_encoded, y_pred_perm)\n",
    "    perm_accuracies.append(perm_acc)\n",
    "\n",
    "# 3. Calculate p-value\n",
    "perm_accuracies = np.array(perm_accuracies)\n",
    "p_value = np.mean(perm_accuracies >= observed_acc)\n",
    "\n",
    "print(f\"Permutation test p-value: {p_value:.4f}\")\n",
    "print(f\"Mean of permutation accuracies: {np.mean(perm_accuracies):.4f}\")\n"
   ]
  },
  {
   "cell_type": "code",
   "execution_count": null,
   "id": "9b2d3c30",
   "metadata": {},
   "outputs": [
    {
     "name": "stdout",
     "output_type": "stream",
     "text": [
      "Permutation test p-value: 0.0000\n",
      "Mean of permutaion accuratcies: 0.5113829787234042\n"
     ]
    }
   ],
   "source": [
    "import numpy as np\n",
    "\n",
    "# 1. Observed accuracy\n",
    "observed_acc = accuracy_score(y_test_ar, y_pred_xgb_original_ar)\n",
    "\n",
    "# 2. Permutation test\n",
    "n_permutations = 100\n",
    "perm_accuracies = []\n",
    "\n",
    "for _ in range(n_permutations):\n",
    "    y_test_perm = np.random.permutation(y_test_ar)  # shuffle the true labels\n",
    "    perm_acc = accuracy_score(y_test_perm, y_pred_xgb_original_ar)\n",
    "    perm_accuracies.append(perm_acc)\n",
    "\n",
    "# 3. Calculate p-value\n",
    "perm_accuracies = np.array(perm_accuracies)\n",
    "p_value = np.mean(perm_accuracies >= observed_acc)\n",
    "\n",
    "print(f\"Permutation test p-value: {p_value:.4f}\")\n",
    "print(f\"Mean of permutaion accuratcies: { np.mean(perm_accuracies)}\")\n"
   ]
  },
  {
   "cell_type": "code",
   "execution_count": null,
   "id": "ac021b68",
   "metadata": {},
   "outputs": [
    {
     "name": "stdout",
     "output_type": "stream",
     "text": [
      "            Feature  Importance\n",
      "796    Beta MEG2432    0.009507\n",
      "442   Alpha MEG0522    0.009072\n",
      "964   Gamma MEG2012    0.008859\n",
      "686    Beta MEG1042    0.008586\n",
      "798    Beta MEG2442    0.008400\n",
      "...             ...         ...\n",
      "426   Alpha MEG0322    0.000000\n",
      "427   Alpha MEG0323    0.000000\n",
      "428   Alpha MEG0332    0.000000\n",
      "430   Alpha MEG0342    0.000000\n",
      "1019  Gamma MEG2643    0.000000\n",
      "\n",
      "[1020 rows x 2 columns]\n"
     ]
    },
    {
     "data": {
      "image/png": "[encoded data removed]",
      "text/plain": [
       "<Figure size 640x480 with 1 Axes>"
      ]
     },
     "metadata": {},
     "output_type": "display_data"
    }
   ],
   "source": [
    "# Get feature importances\n",
    "importances = clf_xgb_ar.feature_importances_\n",
    "\n",
    "feature_names = train_ar.drop(columns=['Subject', 'TargetArousal']).columns\n",
    "\n",
    "# Create a DataFrame for better visualization\n",
    "feature_importance_df = pd.DataFrame({\n",
    "    'Feature': feature_names,\n",
    "    'Importance': importances\n",
    "}).sort_values(by='Importance', ascending=False)\n",
    "\n",
    "print(feature_importance_df)\n",
    "\n",
    "top_n = 10\n",
    "feature_importance_df.head(top_n).plot(kind='barh', x='Feature', y='Importance', legend=False)\n",
    "plt.title(f'Top {top_n} Feature Importances (Arousal)')\n",
    "plt.gca().invert_yaxis()\n",
    "plt.tight_layout()\n",
    "plt.show()\n"
   ]
  }
 ],
 "metadata": {
  "kernelspec": {
   "display_name": "base",
   "language": "python",
   "name": "python3"
  },
  "language_info": {
   "codemirror_mode": {
    "name": "ipython",
    "version": 3
   },
   "file_extension": ".py",
   "mimetype": "text/x-python",
   "name": "python",
   "nbconvert_exporter": "python",
   "pygments_lexer": "ipython3",
   "version": "3.11.5"
  }
 },
 "nbformat": 4,
 "nbformat_minor": 5
}
